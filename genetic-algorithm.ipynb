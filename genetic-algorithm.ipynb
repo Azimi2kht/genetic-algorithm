{
 "cells": [
  {
   "cell_type": "code",
   "execution_count": 1,
   "id": "de7c82c2",
   "metadata": {},
   "outputs": [],
   "source": [
    "import cv2\n",
    "import numpy as np\n",
    "from matplotlib import pyplot as plt\n",
    "from random import randint, random, uniform\n",
    "from utility import *\n",
    "from constants import *\n",
    "from genetic import *\n",
    "%matplotlib inline"
   ]
  },
  {
   "cell_type": "code",
   "execution_count": 2,
   "id": "165cbcc5",
   "metadata": {},
   "outputs": [],
   "source": [
    "population = 50\n",
    "mutation_probability = 0.01"
   ]
  },
  {
   "cell_type": "code",
   "execution_count": 3,
   "id": "6de843ad",
   "metadata": {},
   "outputs": [],
   "source": [
    "reference = readImage(input_path, image_size)"
   ]
  },
  {
   "cell_type": "code",
   "execution_count": 4,
   "id": "e4837af7",
   "metadata": {
    "scrolled": true
   },
   "outputs": [
    {
     "name": "stdout",
     "output_type": "stream",
     "text": [
      "Population Initialized!\n"
     ]
    }
   ],
   "source": [
    "solutions = createPopulation(population, reference)\n",
    "print(\"Population Initialized!\")"
   ]
  },
  {
   "cell_type": "code",
   "execution_count": null,
   "id": "0a7e0623",
   "metadata": {
    "scrolled": false
   },
   "outputs": [
    {
     "name": "stdout",
     "output_type": "stream",
     "text": [
      "mutation happend!\n",
      "==>0th Generation Done!<==\n",
      "mutation happend!\n",
      "==>1th Generation Done!<==\n",
      "mutation happend!\n",
      "==>2th Generation Done!<==\n",
      "mutation happend!\n",
      "==>3th Generation Done!<==\n",
      "==>4th Generation Done!<==\n",
      "==>5th Generation Done!<==\n",
      "mutation happend!\n",
      "==>6th Generation Done!<==\n",
      "==>7th Generation Done!<==\n",
      "mutation happend!\n",
      "==>8th Generation Done!<==\n",
      "==>9th Generation Done!<==\n",
      "==>10th Generation Done!<==\n",
      "==>11th Generation Done!<==\n",
      "mutation happend!\n",
      "==>12th Generation Done!<==\n",
      "==>13th Generation Done!<==\n",
      "==>14th Generation Done!<==\n",
      "==>15th Generation Done!<==\n",
      "==>16th Generation Done!<==\n",
      "==>17th Generation Done!<==\n",
      "==>18th Generation Done!<==\n",
      "==>19th Generation Done!<==\n",
      "mutation happend!\n",
      "==>20th Generation Done!<==\n",
      "==>21th Generation Done!<==\n",
      "==>22th Generation Done!<==\n",
      "==>23th Generation Done!<==\n",
      "==>24th Generation Done!<==\n",
      "==>25th Generation Done!<==\n",
      "mutation happend!\n",
      "==>26th Generation Done!<==\n",
      "mutation happend!\n",
      "==>27th Generation Done!<==\n",
      "mutation happend!\n",
      "==>28th Generation Done!<==\n",
      "==>29th Generation Done!<==\n",
      "==>30th Generation Done!<==\n",
      "mutation happend!\n",
      "==>31th Generation Done!<==\n",
      "==>32th Generation Done!<==\n",
      "mutation happend!\n",
      "==>33th Generation Done!<==\n",
      "==>34th Generation Done!<==\n",
      "==>35th Generation Done!<==\n",
      "mutation happend!\n",
      "mutation happend!\n",
      "==>36th Generation Done!<==\n",
      "==>37th Generation Done!<==\n",
      "==>38th Generation Done!<==\n",
      "mutation happend!\n",
      "mutation happend!\n",
      "==>39th Generation Done!<==\n",
      "==>40th Generation Done!<==\n",
      "==>41th Generation Done!<==\n",
      "mutation happend!\n",
      "mutation happend!\n",
      "==>42th Generation Done!<==\n",
      "==>43th Generation Done!<==\n",
      "==>44th Generation Done!<==\n",
      "mutation happend!\n",
      "==>45th Generation Done!<==\n",
      "==>46th Generation Done!<==\n",
      "==>47th Generation Done!<==\n",
      "==>48th Generation Done!<==\n",
      "==>49th Generation Done!<==\n",
      "==>50th Generation Done!<==\n",
      "==>51th Generation Done!<==\n",
      "==>52th Generation Done!<==\n",
      "==>53th Generation Done!<==\n",
      "==>54th Generation Done!<==\n"
     ]
    }
   ],
   "source": [
    "for k in range(100):\n",
    "    newSolutions = []\n",
    "    for i in range(population//2):\n",
    "        selection1, selection2 = select(solutions)\n",
    "        sol1, sol2 = crossover(selection1, selection2, reference)\n",
    "        sol1 = mutation(sol1, reference, mutation_probability)\n",
    "        sol2 = mutation(sol1, reference, mutation_probability)\n",
    "        newSolutions.append(sol1)\n",
    "        newSolutions.append(sol2)\n",
    "    solutions = newSolutions\n",
    "    print(f\"==>{k}th Generation Done!<==\")"
   ]
  },
  {
   "cell_type": "code",
   "execution_count": null,
   "id": "c25d0622",
   "metadata": {},
   "outputs": [],
   "source": [
    "print(solutions[0][2])\n",
    "plt.imshow(solutions[0][1])"
   ]
  }
 ],
 "metadata": {
  "kernelspec": {
   "display_name": "Python 3 (ipykernel)",
   "language": "python",
   "name": "python3"
  },
  "language_info": {
   "codemirror_mode": {
    "name": "ipython",
    "version": 3
   },
   "file_extension": ".py",
   "mimetype": "text/x-python",
   "name": "python",
   "nbconvert_exporter": "python",
   "pygments_lexer": "ipython3",
   "version": "3.9.13"
  }
 },
 "nbformat": 4,
 "nbformat_minor": 5
}
